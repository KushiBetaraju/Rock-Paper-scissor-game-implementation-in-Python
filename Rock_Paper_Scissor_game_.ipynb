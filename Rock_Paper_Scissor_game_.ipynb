{
  "nbformat": 4,
  "nbformat_minor": 0,
  "metadata": {
    "colab": {
      "provenance": [],
      "authorship_tag": "ABX9TyOxWsSnE7Gkabx2WVz53/yx",
      "include_colab_link": true
    },
    "kernelspec": {
      "name": "python3",
      "display_name": "Python 3"
    },
    "language_info": {
      "name": "python"
    }
  },
  "cells": [
    {
      "cell_type": "markdown",
      "metadata": {
        "id": "view-in-github",
        "colab_type": "text"
      },
      "source": [
        "<a href=\"https://colab.research.google.com/github/KushiBetaraju/Rock-Paper-scissor-game-implementation-in-Python/blob/main/Rock_Paper_Scissor_game_.ipynb\" target=\"_parent\"><img src=\"https://colab.research.google.com/assets/colab-badge.svg\" alt=\"Open In Colab\"/></a>"
      ]
    },
    {
      "cell_type": "markdown",
      "source": [
        "# Python-based implementation of the classic Rock, Paper, Scissors game.\n",
        "\n",
        "The game is played between a user and the computer, with the computer's choices generated randomly. It follows the standard rules: Rock beats Scissors, Scissors beat Paper, and Paper beats Rock. The program highlights the use of basic Python concepts like conditionals, loops, and randomness to create an engaging and interactive experience."
      ],
      "metadata": {
        "id": "lVbim1HmxyWR"
      }
    },
    {
      "cell_type": "code",
      "execution_count": null,
      "metadata": {
        "id": "0iCJvGZVUARB"
      },
      "outputs": [],
      "source": [
        "# Importing necessary library.\n",
        "import random"
      ]
    },
    {
      "cell_type": "code",
      "source": [
        "# Print the rules of the game to explain which move wins in different scenarios\n",
        "\n",
        "print('Winning rules of the game ROCK PAPER SCISSORS are:\\n'\n",
        "      , \"Rock vs Paper -> Paper wins \\n\"\n",
        "      , \"Rock vs Scissors -> Rock wins \\n\"\n",
        "      , \"Paper vs Scissor -> Scissor wins \\n\" )"
      ],
      "metadata": {
        "colab": {
          "base_uri": "https://localhost:8080/"
        },
        "id": "qdb5ZW-LULQV",
        "outputId": "c91a1a1f-f53f-451d-b89d-1c89f4fe1e18"
      },
      "execution_count": null,
      "outputs": [
        {
          "output_type": "stream",
          "name": "stdout",
          "text": [
            "Winning rules of the game ROCK PAPER SCISSORS are:\n",
            " Rock vs Paper -> Paper wins \n",
            " Rock vs Scissors -> Rock wins \n",
            " Paper vs Scissor -> Scissor wins \n",
            "\n"
          ]
        }
      ]
    },
    {
      "cell_type": "markdown",
      "source": [
        "The while True loop - is used to keep the game running continuously until the user decides to exit."
      ],
      "metadata": {
        "id": "cNmnqoYX3Uvp"
      }
    },
    {
      "cell_type": "code",
      "source": [
        "while True:  # Main game loop\n",
        "    # Display the choices available to the user\n",
        "    print(\"The choices which the program will accept are:\")\n",
        "    print(\"1 - Rock\")\n",
        "    print(\"2 - Paper\")\n",
        "    print(\"3 - Scissors\\n\")\n",
        "\n",
        "    # Get user input and convert it to an integer\n",
        "    user_input = int(input(\"Enter your choice (1, 2, or 3): \\n\"))\n",
        "\n",
        "    # Validate user input to ensure it's between 1 and 3\n",
        "    while user_input > 3 or user_input < 1:\n",
        "        print(\"You have entered an invalid input. Please try again.\")\n",
        "        user_input = int(input(\"Enter your choice (1, 2, or 3): \\n\"))  # Prompt again\n",
        "\n",
        "    # Display the user's choice\n",
        "    if user_input == 1:\n",
        "        print(\"Rock\")\n",
        "    elif user_input == 2:\n",
        "        print(\"Paper\")\n",
        "    else:\n",
        "        print(\"Scissors\")\n",
        "\n",
        "    # Generate a random choice for the computer\n",
        "    comp_input = random.randint(1, 3)\n",
        "\n",
        "    # Display the computer's choice\n",
        "    if comp_input == 1:\n",
        "        print(\"Rock\")\n",
        "    elif comp_input == 2:\n",
        "        print(\"Paper\")\n",
        "    else:\n",
        "        print(\"Scissors\")\n",
        "\n",
        "    # Show both user and computer choices\n",
        "    print(\"User input value is \", user_input, \"\\nComputer's input value is \", comp_input, \"\\n\")\n",
        "\n",
        "    # Determine the winner based on game rules\n",
        "    if (user_input == 1 and comp_input == 2) or (comp_input == 1 and user_input == 2):\n",
        "        result = \"Paper\"\n",
        "    elif (user_input == 2 and comp_input == 3) or (comp_input == 2 and user_input == 3):\n",
        "        result = \"Scissor\"\n",
        "    elif (user_input == 3 and comp_input == 1) or (comp_input == 3 and user_input == 1):\n",
        "        result = \"Rock\"\n",
        "    elif user_input == comp_input:\n",
        "        result = \"Draw Match\"\n",
        "\n",
        "    # Announce the result of the game\n",
        "    if result == \"Paper\":\n",
        "        print(\"***** Paper wins *****\\n\")\n",
        "    elif result == \"Rock\":\n",
        "        print(\"***** Rock Wins *****\\n\")\n",
        "    elif result == \"Scissor\":\n",
        "        print(\"***** Scissors Wins *****\\n\")\n",
        "    elif result == \"Draw Match\":\n",
        "        print(\"***** It's a tie *****\\n\")\n",
        "\n",
        "    # Ask the user if they want to play again\n",
        "    print(\"Do you want to play again? [Y or N]\\n\")\n",
        "    ans = input().lower()  # Convert input to lowercase for easy comparison\n",
        "    if ans == \"n\":  # Exit the loop if the user chooses 'N'\n",
        "        print(\"Thanks for playing!\")\n",
        "        break\n"
      ],
      "metadata": {
        "colab": {
          "base_uri": "https://localhost:8080/"
        },
        "id": "al6U9_4AU01a",
        "outputId": "7a5ca42c-2cc2-4657-cd1b-6191f72afb06"
      },
      "execution_count": null,
      "outputs": [
        {
          "output_type": "stream",
          "name": "stdout",
          "text": [
            "The choices which the program will accept are:\n",
            "1 - Rock\n",
            "2 - Paper\n",
            "3 - Scissors\n",
            "\n",
            "Enter your choice (1, 2, or 3): \n",
            "2\n",
            "Paper\n",
            "Scissors\n",
            "User input value is  2 Computer's input value is  3 \n",
            "\n",
            "***** Scissors Wins *****\n",
            "Do you want to play again? [Y or N]\n",
            "n\n",
            "Thanks for playing!\n"
          ]
        }
      ]
    }
  ]
}